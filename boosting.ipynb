{
 "cells": [
  {
   "cell_type": "markdown",
   "metadata": {},
   "source": [
    "# 提升方法的基本思路"
   ]
  },
  {
   "cell_type": "markdown",
   "metadata": {},
   "source": [
    "    一句话概括就是‘三个臭皮匠顶个诸葛亮’\n",
    "    对于分类问题而言，给定一个训练样本集，求比较粗糙的分类规则（弱分类器）要比求精确的分类规则（强分类器）要简单的多，提升方法就是从弱学习算法出发，反复学些，得到一系列弱分类器（又称为基本分类器），然后组合这些弱分类器，构成一个强分类器，大多数的提升方法都是改变训练数据的概率分布（训练数据集的权值分布），针对不同的训练数据分布调用弱学习算法学习一系列弱分类器\n",
    "    对于提升算法来说需要解决两个问题：\n",
    "    （1）如何改变训练数据的权值分布\n",
    "    adaboost的做法，提高那些被前一轮弱分类器错误分类样本的权重，而降低那些被正确分类样本的权重，于是，分类问题被一些列的弱分类器‘分而治之’\n",
    "    （2）如何将系列弱分类器转换为强分类器\n",
    "    adaboost采取加权多数表决的方法，具体地，加大分类误差率小的弱分类器的权值，使其在表决中起较大的作用，同时减小分类误差率较大的弱分类器权值"
   ]
  },
  {
   "cell_type": "markdown",
   "metadata": {},
   "source": [
    "# AdaBoostClassifier"
   ]
  },
  {
   "cell_type": "code",
   "execution_count": 16,
   "metadata": {},
   "outputs": [
    {
     "name": "stdout",
     "output_type": "stream",
     "text": [
      "(375, 2)\n"
     ]
    }
   ],
   "source": [
    "from sklearn.datasets import make_moons\n",
    "from sklearn.model_selection import train_test_split\n",
    "\n",
    "x,y = make_moons(n_samples=500,noise=0.3,random_state=42)\n",
    "x_train,x_test,y_train,y_test = train_test_split(x,y,random_state=42)#默认test_size = 0.25\n",
    "print(x_train.shape)"
   ]
  },
  {
   "cell_type": "code",
   "execution_count": 18,
   "metadata": {},
   "outputs": [
    {
     "name": "stdout",
     "output_type": "stream",
     "text": [
      "0.896\n"
     ]
    }
   ],
   "source": [
    "from sklearn.ensemble import AdaBoostClassifier\n",
    "from sklearn.tree import DecisionTreeClassifier\n",
    "from sklearn.metrics import accuracy_score\n",
    "\n",
    "adabst_clf = AdaBoostClassifier(DecisionTreeClassifier(max_depth=1),n_estimators = 200,algorithm='SAMME.R',learning_rate=0.5)\n",
    "adabst_clf.fit(x_train,y_train)\n",
    "print(accuracy_score(y_test,adabst_clf.predict(x_test)))"
   ]
  },
  {
   "cell_type": "code",
   "execution_count": null,
   "metadata": {},
   "outputs": [],
   "source": []
  }
 ],
 "metadata": {
  "kernelspec": {
   "display_name": "Python 3",
   "language": "python",
   "name": "python3"
  },
  "language_info": {
   "codemirror_mode": {
    "name": "ipython",
    "version": 3
   },
   "file_extension": ".py",
   "mimetype": "text/x-python",
   "name": "python",
   "nbconvert_exporter": "python",
   "pygments_lexer": "ipython3",
   "version": "3.7.1"
  },
  "toc": {
   "base_numbering": 1,
   "nav_menu": {},
   "number_sections": true,
   "sideBar": true,
   "skip_h1_title": false,
   "title_cell": "Table of Contents",
   "title_sidebar": "Contents",
   "toc_cell": false,
   "toc_position": {},
   "toc_section_display": true,
   "toc_window_display": false
  }
 },
 "nbformat": 4,
 "nbformat_minor": 2
}
