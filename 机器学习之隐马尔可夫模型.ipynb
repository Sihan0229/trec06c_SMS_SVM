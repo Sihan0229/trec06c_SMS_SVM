{
 "cells": [
  {
   "cell_type": "markdown",
   "metadata": {},
   "source": [
    "# 模型场景"
   ]
  },
  {
   "cell_type": "raw",
   "metadata": {},
   "source": [
    "在介绍隐马尔可夫模型之前先来看个例子：\n",
    "假设有4个盒子，每个盒子里面都装有红、白两种颜色的求，盒子里面的红包球数量如下：\n",
    "                                \n",
    "                           盒子\n",
    "            1           2         3      4\n",
    "\n",
    "红球数      5           3         6      8\n",
    "白球数      5           7         4      2"
   ]
  },
  {
   "cell_type": "markdown",
   "metadata": {},
   "source": [
    "按照下面的方式抽球，产生一个球的颜色的观测序列：\n",
    "- (1)开始，从4个盒子里以等概率随机选取一个盒子，从这个盒子里随机抽出一个球，记录其颜色，然后放回\n",
    "- (2)然后，从当前盒子随机转移到下一个盒子，规则是：如果当前盒子是盒子1，那么下一个盒子一定是盒子2，如果当前盒子是盒子2或3，那么分别以概率0.4和0.6转移到左边或右边的盒子，如果当前是盒子4，那么各以0.5的概率停留在盒子4或转移到盒子3\n",
    "- (3)确定转移的盒子后，再从这个盒子里随机抽出一个球，记录其颜色，放回\n",
    "- (4)如此下去，重复进行5次，得到一个球的颜色的观测序列：$$O = (红，红，白，白，红)$$\n",
    "\n",
    "在这个过程中，观察者只能观测到球的颜色的序列，观测不到球是从哪个盒子取出的，即观测不到盒子的序列"
   ]
  },
  {
   "cell_type": "markdown",
   "metadata": {},
   "source": [
    "# 隐马尔可夫模型三要素"
   ]
  },
  {
   "cell_type": "markdown",
   "metadata": {},
   "source": [
    "上面的例子是一个典型的<b>隐马尔可夫模型</b>。有两个随机序列，一个是盒子的序列(状态序列)，一个是球的颜色的观测序列，前者是隐藏的，只有后者是可观测的。\n",
    "\n",
    "隐马尔可夫模型有三要素，表示为$$\\lambda = (A, B, \\pi)$$\n",
    "注：A为状态转移矩阵，B为观测概率分布矩阵，$\\pi 为初始状态概率向量$"
   ]
  },
  {
   "cell_type": "markdown",
   "metadata": {},
   "source": [
    "通过上面的例子，来分别计算下A,B和$\\pi$的值\n",
    "\n",
    "<b>状态转移概率分布矩阵：</b>\n",
    "$$ A = \n",
    " \\left[\n",
    " \\begin{matrix}\n",
    "   0   & 1 &   0 & 0 \\\\\n",
    "   0.4 & 0 & 0.4 & 0 \\\\\n",
    "   0 & 0.4 &   0 & 0.6 \\\\\n",
    "   0 &   0 & 0.5 & 0.5\n",
    "  \\end{matrix}\n",
    "  \\right]\n",
    "$$\n",
    "$A[ij]$表示从状态i转移到状态j的概率"
   ]
  },
  {
   "cell_type": "markdown",
   "metadata": {},
   "source": [
    "<b>观测概率分布矩阵：</b>\n",
    "\n",
    "$$ B = \n",
    " \\left[\n",
    " \\begin{matrix}\n",
    "   0.5 & 0.5 \\\\\n",
    "   0.3 & 0.7 \\\\\n",
    "   0.6 & 0.4 \\\\\n",
    "   0.8 & 0.2\n",
    "  \\end{matrix}\n",
    "  \\right]\n",
    "$$\n",
    "$B[i0]$表示盒子i中取出红球的概率，$B[i1]$表示盒子i中取出白球的概率"
   ]
  },
  {
   "cell_type": "markdown",
   "metadata": {},
   "source": [
    "<b>初始概率分布：</b>\n",
    "$$\\pi = (0.25,0.25,0.25,0.25)$$"
   ]
  },
  {
   "cell_type": "markdown",
   "metadata": {},
   "source": [
    "# 隐马尔可夫模型的三个基本问题"
   ]
  },
  {
   "cell_type": "markdown",
   "metadata": {},
   "source": [
    "(1) 概率计算问题\n",
    "\n",
    "给定模型$\\lambda = (A,B,\\pi)$和观测序列$O = (o_1,o_2,...,0_T)$,计算在模型$\\lambda$下观测模型出现的概率$P(O|\\lambda)$\n",
    "\n",
    "(2) 学习问题\n",
    "\n",
    "已知观测序列$O = (o_1,o_2,...,0_T)$,估计模型$\\lambda = (A,B,\\pi)$参数，使得在该模型下观测序列概率$P(O|\\lambda)$最大，用极大似然估计的方法估计参数\n",
    "\n",
    "(3) 预测问题，也称为解码问题\n",
    "\n",
    "已知模型$\\lambda = (A,B,\\pi)$和观测序列$O = (o_1,o_2,...,0_T)$，求对给定观测序列条件概率$P(O|\\lambda)$最大的状态序列$I = (i_1,i_2,...,i_T)$。即给定观测序列，求最有可能的对应的状态序列\n",
    "\n",
    "下面分别介绍针对不同问题的解决算法"
   ]
  },
  {
   "cell_type": "markdown",
   "metadata": {},
   "source": [
    "# 概率计算算法"
   ]
  },
  {
   "cell_type": "markdown",
   "metadata": {},
   "source": [
    "## 问题描述"
   ]
  },
  {
   "cell_type": "markdown",
   "metadata": {},
   "source": [
    "给定模型$\\lambda = (A,B,\\pi)$和观测序列$O = (o_1,o_2,...,0_T)$,计算在模型$\\lambda$下观测模型出现的概率$P(O|\\lambda)$"
   ]
  },
  {
   "cell_type": "code",
   "execution_count": null,
   "metadata": {},
   "outputs": [],
   "source": []
  },
  {
   "cell_type": "code",
   "execution_count": null,
   "metadata": {},
   "outputs": [],
   "source": []
  },
  {
   "cell_type": "markdown",
   "metadata": {},
   "source": [
    "# 学习算法"
   ]
  },
  {
   "cell_type": "markdown",
   "metadata": {},
   "source": [
    "# 预测算法"
   ]
  },
  {
   "cell_type": "code",
   "execution_count": null,
   "metadata": {},
   "outputs": [],
   "source": []
  }
 ],
 "metadata": {
  "kernelspec": {
   "display_name": "Python 3",
   "language": "python",
   "name": "python3"
  },
  "language_info": {
   "codemirror_mode": {
    "name": "ipython",
    "version": 3
   },
   "file_extension": ".py",
   "mimetype": "text/x-python",
   "name": "python",
   "nbconvert_exporter": "python",
   "pygments_lexer": "ipython3",
   "version": "3.6.7"
  },
  "toc": {
   "base_numbering": 1,
   "nav_menu": {},
   "number_sections": true,
   "sideBar": true,
   "skip_h1_title": false,
   "title_cell": "Table of Contents",
   "title_sidebar": "Contents",
   "toc_cell": false,
   "toc_position": {},
   "toc_section_display": true,
   "toc_window_display": true
  }
 },
 "nbformat": 4,
 "nbformat_minor": 2
}
