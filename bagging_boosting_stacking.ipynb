{
 "cells": [
  {
   "cell_type": "markdown",
   "metadata": {},
   "source": [
    "# 投票分类器"
   ]
  },
  {
   "cell_type": "markdown",
   "metadata": {},
   "source": [
    "使用卫星数据集，创建并训练一个投票分类器，由随机森林、逻辑回归和svc三种不同的分类器组成"
   ]
  },
  {
   "cell_type": "code",
   "execution_count": 2,
   "metadata": {},
   "outputs": [],
   "source": [
    "from sklearn.ensemble import RandomForestClassifier,VotingClassifier\n",
    "from sklearn.linear_model import LogisticRegression\n",
    "from sklearn.svm import SVC"
   ]
  },
  {
   "cell_type": "code",
   "execution_count": 7,
   "metadata": {},
   "outputs": [
    {
     "name": "stdout",
     "output_type": "stream",
     "text": [
      "10000\n",
      "8000\n"
     ]
    }
   ],
   "source": [
    "from sklearn.datasets import make_moons\n",
    "from sklearn.model_selection import train_test_split\n",
    "x,y = make_moons(n_samples=10000,noise=0.4)\n",
    "print(len(x))\n",
    "x_train,x_test,y_train,y_test = train_test_split(x,y,test_size = 0.2,random_state=42)\n",
    "print(len(x_train))"
   ]
  },
  {
   "cell_type": "code",
   "execution_count": 17,
   "metadata": {},
   "outputs": [
    {
     "name": "stdout",
     "output_type": "stream",
     "text": [
      "classifier:LogisticRegression,accuracy:0.8195\n"
     ]
    },
    {
     "name": "stderr",
     "output_type": "stream",
     "text": [
      "C:\\Anaconda3\\lib\\site-packages\\sklearn\\svm\\base.py:196: FutureWarning: The default value of gamma will change from 'auto' to 'scale' in version 0.22 to account better for unscaled features. Set gamma explicitly to 'auto' or 'scale' to avoid this warning.\n",
      "  \"avoid this warning.\", FutureWarning)\n"
     ]
    },
    {
     "name": "stdout",
     "output_type": "stream",
     "text": [
      "classifier:SVC,accuracy:0.854\n",
      "classifier:RandomForestClassifier,accuracy:0.8125\n"
     ]
    },
    {
     "name": "stderr",
     "output_type": "stream",
     "text": [
      "C:\\Anaconda3\\lib\\site-packages\\sklearn\\ensemble\\forest.py:246: FutureWarning: The default value of n_estimators will change from 10 in version 0.20 to 100 in 0.22.\n",
      "  \"10 in version 0.20 to 100 in 0.22.\", FutureWarning)\n",
      "C:\\Anaconda3\\lib\\site-packages\\sklearn\\svm\\base.py:196: FutureWarning: The default value of gamma will change from 'auto' to 'scale' in version 0.22 to account better for unscaled features. Set gamma explicitly to 'auto' or 'scale' to avoid this warning.\n",
      "  \"avoid this warning.\", FutureWarning)\n"
     ]
    },
    {
     "name": "stdout",
     "output_type": "stream",
     "text": [
      "classifier:VotingClassifier,accuracy:0.848\n"
     ]
    }
   ],
   "source": [
    "rf_clf = RandomForestClassifier()\n",
    "lr_clf = LogisticRegression(solver='lbfgs')\n",
    "svc_clf = SVC()\n",
    "voting_clf = VotingClassifier(estimators = [('rf_clf',rf_clf),('lr_clf',lr_clf),('svc_clf',svc_clf)],voting='hard')\n",
    "\n",
    "from sklearn.metrics import accuracy_score\n",
    "for clf in (lr_clf,svc_clf,rf_clf,voting_clf):\n",
    "    clf.fit(x_train,y_train)\n",
    "    accuracy = accuracy_score(y_test,clf.predict(x_test))\n",
    "    print('classifier:{},accuracy:{}'.format(clf.__class__.__name__,accuracy))"
   ]
  },
  {
   "cell_type": "markdown",
   "metadata": {},
   "source": [
    "将硬投票改为软投票试试，由于svm在默认情况下不支持估算出概率，必须将probability设置为True"
   ]
  },
  {
   "cell_type": "code",
   "execution_count": 18,
   "metadata": {},
   "outputs": [
    {
     "name": "stdout",
     "output_type": "stream",
     "text": [
      "classifier:LogisticRegression,accuracy:0.8195\n"
     ]
    },
    {
     "name": "stderr",
     "output_type": "stream",
     "text": [
      "C:\\Anaconda3\\lib\\site-packages\\sklearn\\svm\\base.py:196: FutureWarning: The default value of gamma will change from 'auto' to 'scale' in version 0.22 to account better for unscaled features. Set gamma explicitly to 'auto' or 'scale' to avoid this warning.\n",
      "  \"avoid this warning.\", FutureWarning)\n"
     ]
    },
    {
     "name": "stdout",
     "output_type": "stream",
     "text": [
      "classifier:SVC,accuracy:0.854\n",
      "classifier:RandomForestClassifier,accuracy:0.8315\n"
     ]
    },
    {
     "name": "stderr",
     "output_type": "stream",
     "text": [
      "C:\\Anaconda3\\lib\\site-packages\\sklearn\\ensemble\\forest.py:246: FutureWarning: The default value of n_estimators will change from 10 in version 0.20 to 100 in 0.22.\n",
      "  \"10 in version 0.20 to 100 in 0.22.\", FutureWarning)\n",
      "C:\\Anaconda3\\lib\\site-packages\\sklearn\\svm\\base.py:196: FutureWarning: The default value of gamma will change from 'auto' to 'scale' in version 0.22 to account better for unscaled features. Set gamma explicitly to 'auto' or 'scale' to avoid this warning.\n",
      "  \"avoid this warning.\", FutureWarning)\n"
     ]
    },
    {
     "name": "stdout",
     "output_type": "stream",
     "text": [
      "classifier:VotingClassifier,accuracy:0.841\n"
     ]
    }
   ],
   "source": [
    "rf_clf = RandomForestClassifier()\n",
    "lr_clf = LogisticRegression(solver='lbfgs')\n",
    "svc_clf = SVC(probability=True)\n",
    "voting_clf = VotingClassifier(estimators = [('rf_clf',rf_clf),('lr_clf',lr_clf),('svc_clf',svc_clf)],voting='soft')\n",
    "\n",
    "from sklearn.metrics import accuracy_score\n",
    "for clf in (lr_clf,svc_clf,rf_clf,voting_clf):\n",
    "    clf.fit(x_train,y_train)\n",
    "    accuracy = accuracy_score(y_test,clf.predict(x_test))\n",
    "    print('classifier:{},accuracy:{}'.format(clf.__class__.__name__,accuracy))"
   ]
  },
  {
   "cell_type": "markdown",
   "metadata": {},
   "source": [
    "书上说修改为软投票后准确率会提高到91%，目前我为测试出来"
   ]
  },
  {
   "cell_type": "markdown",
   "metadata": {},
   "source": [
    "# bagging和pasting"
   ]
  },
  {
   "cell_type": "markdown",
   "metadata": {},
   "source": [
    "训练一个包含500个决策树分类器的集成，每次随机从训练集中采样100个训练实际进行训练，若bootstrap=true则放回，否则不放回"
   ]
  },
  {
   "cell_type": "code",
   "execution_count": 23,
   "metadata": {},
   "outputs": [
    {
     "name": "stdout",
     "output_type": "stream",
     "text": [
      "oob_score: 0.859125\n",
      "accuracy: 0.85\n"
     ]
    }
   ],
   "source": [
    "from sklearn.ensemble import BaggingClassifier\n",
    "from sklearn.tree import DecisionTreeClassifier\n",
    "\n",
    "bag_clf = BaggingClassifier(DecisionTreeClassifier(), n_estimators=500,max_samples=100,bootstrap=True,n_jobs=-1,oob_score=True)\n",
    "bag_clf.fit(x_train,y_train)\n",
    "y_pred = bag_clf.predict(x_test)\n",
    "print('oob_score:',bag_clf.oob_score_)\n",
    "print('accuracy:',accuracy_score(y_test,y_pred))"
   ]
  },
  {
   "cell_type": "markdown",
   "metadata": {},
   "source": [
    "注意oob_score参数，翻译为包外评估分数，因为BaggingClassifier默认采用m个训练实例，然后放回样本（bootstrap=True）,\n",
    "这意味着对每个预测器来说，平均只对部分的训练实例（63%）进行采样，而剩余未被采样的将用于包外评估"
   ]
  },
  {
   "cell_type": "markdown",
   "metadata": {},
   "source": [
    "# 使用随机森林查看特征重要性"
   ]
  },
  {
   "cell_type": "markdown",
   "metadata": {},
   "source": [
    "查看单个决策树会发现，重要的特征更可能出现在靠近根节点的位置，而不重要的特征通常出现在靠近叶节点的位置"
   ]
  },
  {
   "cell_type": "code",
   "execution_count": 30,
   "metadata": {},
   "outputs": [
    {
     "name": "stdout",
     "output_type": "stream",
     "text": [
      "sepal length (cm) 0.0938533541376908\n",
      "sepal width (cm) 0.024136087222109918\n",
      "petal length (cm) 0.44146052727464014\n",
      "petal width (cm) 0.44055003136555876\n"
     ]
    }
   ],
   "source": [
    "from sklearn.datasets import load_iris\n",
    "from sklearn.ensemble import RandomForestClassifier\n",
    "\n",
    "iris = load_iris()\n",
    "x,y = iris['data'],iris['target']\n",
    "rfc_clf = RandomForestClassifier(n_estimators = 500, criterion='gini',oob_score=True,n_jobs = -1)\n",
    "rfc_clf.fit(x,y)\n",
    "for feature_name,importance in zip(iris['feature_names'],rfc_clf.feature_importances_):\n",
    "    print(feature_name,importance)"
   ]
  },
  {
   "cell_type": "code",
   "execution_count": 31,
   "metadata": {},
   "outputs": [
    {
     "name": "stdout",
     "output_type": "stream",
     "text": [
      "n_features: 4\n",
      "oob_score: 0.9533333333333334\n"
     ]
    }
   ],
   "source": [
    "print('n_features:',rfc_clf.n_features_)\n",
    "print('oob_score:',rfc_clf.oob_score_) #注意需要oob_score参数，才可以查看包外评估"
   ]
  },
  {
   "cell_type": "code",
   "execution_count": null,
   "metadata": {},
   "outputs": [],
   "source": []
  }
 ],
 "metadata": {
  "kernelspec": {
   "display_name": "Python 3",
   "language": "python",
   "name": "python3"
  },
  "language_info": {
   "codemirror_mode": {
    "name": "ipython",
    "version": 3
   },
   "file_extension": ".py",
   "mimetype": "text/x-python",
   "name": "python",
   "nbconvert_exporter": "python",
   "pygments_lexer": "ipython3",
   "version": "3.7.1"
  },
  "toc": {
   "base_numbering": 1,
   "nav_menu": {},
   "number_sections": true,
   "sideBar": true,
   "skip_h1_title": false,
   "title_cell": "Table of Contents",
   "title_sidebar": "Contents",
   "toc_cell": false,
   "toc_position": {},
   "toc_section_display": true,
   "toc_window_display": false
  }
 },
 "nbformat": 4,
 "nbformat_minor": 2
}
