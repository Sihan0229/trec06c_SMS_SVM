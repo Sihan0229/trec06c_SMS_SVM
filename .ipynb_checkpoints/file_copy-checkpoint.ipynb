{
 "cells": [
  {
   "cell_type": "code",
   "execution_count": 61,
   "metadata": {},
   "outputs": [],
   "source": [
    "index_file= '.\\\\datasets\\\\trec06c\\\\full\\\\index'\n",
    "data_file = '.\\\\datasets\\\\trec06c\\\\data'\n",
    "\n",
    "ham_file_list = []\n",
    "spam_file_list = []\n",
    "# 读index文件\n",
    "with open(index_file,'r') as pf:\n",
    "    for line in pf.readlines():\n",
    "        content = line.strip().split('..')\n",
    "        label,path = content\n",
    "        path = path.replace('/', '\\\\')\n",
    "        if label == 'spam ':\n",
    "            spam_file_list.append(path)\n",
    "        else:\n",
    "            ham_file_list.append(path)"
   ]
  },
  {
   "cell_type": "code",
   "execution_count": 88,
   "metadata": {},
   "outputs": [],
   "source": [
    "import os\n",
    "import shutil\n",
    "root = '.\\\\datasets\\\\trec06c\\\\'\n",
    "new_ham_root = '.\\\\datasets\\\\trec06c\\\\ham_data'\n",
    "new_spam_root = '.\\\\datasets\\\\trec06c\\\\spam_data'\n",
    "def copy_file(filelist,new_file_path): \n",
    "    for file in filelist:\n",
    "        file_name = file.split('\\\\')\n",
    "        path = root + file\n",
    "        if not os.path.exists(new_file_path):\n",
    "            os.makedirs(new_file_path)\n",
    "        shutil.copyfile(path, new_file_path+'\\\\' + file_name[-2]+ '_' + file_name[-1])"
   ]
  },
  {
   "cell_type": "code",
   "execution_count": 86,
   "metadata": {},
   "outputs": [],
   "source": [
    "copy_file(ham_file_list, new_ham_root)"
   ]
  },
  {
   "cell_type": "code",
   "execution_count": 89,
   "metadata": {},
   "outputs": [],
   "source": [
    "copy_file(spam_file_list, new_spam_root)"
   ]
  },
  {
   "cell_type": "code",
   "execution_count": null,
   "metadata": {},
   "outputs": [],
   "source": []
  }
 ],
 "metadata": {
  "kernelspec": {
   "display_name": "Python 3",
   "language": "python",
   "name": "python3"
  },
  "language_info": {
   "codemirror_mode": {
    "name": "ipython",
    "version": 3
   },
   "file_extension": ".py",
   "mimetype": "text/x-python",
   "name": "python",
   "nbconvert_exporter": "python",
   "pygments_lexer": "ipython3",
   "version": "3.6.7"
  }
 },
 "nbformat": 4,
 "nbformat_minor": 2
}
