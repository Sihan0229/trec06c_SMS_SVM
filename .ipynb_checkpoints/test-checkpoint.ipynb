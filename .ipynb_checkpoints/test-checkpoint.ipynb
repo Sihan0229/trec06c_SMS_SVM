{
 "cells": [
  {
   "cell_type": "code",
   "execution_count": 87,
   "metadata": {},
   "outputs": [],
   "source": [
    "ham_file = '.\\\\datasets\\\\trec06c\\\\ham.txt'\n",
    "spam_file = '.\\\\datasets\\\\trec06c\\\\spam.txt'\n",
    "vocabs_file = '.\\\\datasets\\\\trec06c\\\\vocabs.txt'\n",
    "\n",
    "ham_new_file = '.\\\\datasets\\\\trec06c\\\\ham_new.txt'\n",
    "spam_new_file = '.\\\\datasets\\\\trec06c\\\\spam_new.txt'"
   ]
  },
  {
   "cell_type": "code",
   "execution_count": 73,
   "metadata": {},
   "outputs": [],
   "source": [
    "def get_words_iter(file):\n",
    "    with open(file,'rb') as pf:\n",
    "        for line in pf.readlines():\n",
    "            line = line.decode('gbk','ignore').strip()\n",
    "            yield line.split(' ')"
   ]
  },
  {
   "cell_type": "code",
   "execution_count": 74,
   "metadata": {},
   "outputs": [],
   "source": [
    "def check_contain_chinese(check_str):\n",
    "        '''\n",
    "        判断邮件中的字符是否有中文\n",
    "        '''\n",
    "        for ch in check_str:\n",
    "            if u'\\u4e00' <= ch <= u'\\u9fff':\n",
    "                return True\n",
    "        return False"
   ]
  },
  {
   "cell_type": "code",
   "execution_count": 83,
   "metadata": {},
   "outputs": [],
   "source": [
    "def get_feature_vocab(ham_file,spam_file):\n",
    "    ham_word_dict = {}\n",
    "    spam_word_dict = {}\n",
    "    vocabs_dict = {}\n",
    "    for words in get_words_iter(ham_file):\n",
    "        for word in words:\n",
    "            if check_contain_chinese(word):\n",
    "                ham_word_dict[word] = ham_word_dict.get(word, 0) + 1\n",
    "                vocabs_dict[word] = vocabs_dict.get(word, 0) + 1\n",
    "\n",
    "    for words in get_words_iter(spam_file):\n",
    "        for word in words:\n",
    "            if check_contain_chinese(word):\n",
    "                spam_word_dict[word] = ham_word_dict.get(word, 0) + 1\n",
    "                vocabs_dict[word] = vocabs_dict.get(word, 0) + 1\n",
    "\n",
    "    vocabs_sorted = sorted(vocabs_dict.items(),key = lambda x:x[1],reverse = True)\n",
    "    \n",
    "    ham_words = [key for key in ham_word_dict.keys()]\n",
    "    spam_words = [key for key in spam_word_dict.keys()]\n",
    "    vocabs = [word_number[0] for word_number in vocabs_sorted]\n",
    "    \n",
    "    return ham_words,spam_words,vocabs"
   ]
  },
  {
   "cell_type": "code",
   "execution_count": 88,
   "metadata": {},
   "outputs": [],
   "source": [
    "def write_vocab_to_file(file,words):\n",
    "    with open(file,'w') as pf:\n",
    "        pf.write(' '.join(words))\n",
    "    print('write {} success'.format(file))"
   ]
  },
  {
   "cell_type": "code",
   "execution_count": 85,
   "metadata": {},
   "outputs": [],
   "source": [
    "ham_words,spam_words,vocabs = get_feature_vocab(ham_file,spam_file)"
   ]
  },
  {
   "cell_type": "code",
   "execution_count": 86,
   "metadata": {},
   "outputs": [
    {
     "name": "stdout",
     "output_type": "stream",
     "text": [
      "ham_words len: 110576\n",
      "spam_words len: 84698\n",
      "vocabs len: 155660\n"
     ]
    }
   ],
   "source": [
    "print('ham_words len:',len(ham_words))\n",
    "print('spam_words len:',len(spam_words))\n",
    "print('vocabs len:',len(vocabs))"
   ]
  },
  {
   "cell_type": "code",
   "execution_count": 89,
   "metadata": {},
   "outputs": [
    {
     "name": "stdout",
     "output_type": "stream",
     "text": [
      "write .\\datasets\\trec06c\\ham_new.txt success\n",
      "write .\\datasets\\trec06c\\spam_new.txt success\n",
      "write .\\datasets\\trec06c\\vocabs.txt success\n"
     ]
    }
   ],
   "source": [
    "write_vocab_to_file(ham_new_file, ham_words)\n",
    "write_vocab_to_file(spam_new_file, spam_words)\n",
    "write_vocab_to_file(vocabs_file, vocabs)"
   ]
  },
  {
   "cell_type": "code",
   "execution_count": null,
   "metadata": {},
   "outputs": [],
   "source": [
    "\n"
   ]
  }
 ],
 "metadata": {
  "kernelspec": {
   "display_name": "Python 3",
   "language": "python",
   "name": "python3"
  },
  "language_info": {
   "codemirror_mode": {
    "name": "ipython",
    "version": 3
   },
   "file_extension": ".py",
   "mimetype": "text/x-python",
   "name": "python",
   "nbconvert_exporter": "python",
   "pygments_lexer": "ipython3",
   "version": "3.6.7"
  }
 },
 "nbformat": 4,
 "nbformat_minor": 2
}
