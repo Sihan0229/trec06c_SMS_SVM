{
 "cells": [
  {
   "cell_type": "markdown",
   "metadata": {},
   "source": [
    "# 准确率"
   ]
  },
  {
   "cell_type": "markdown",
   "metadata": {},
   "source": [
    "准确率是指分类正确的样本占总样个数的比例：$$Accuracy = \\frac{n_{correct}}{n_{total}}$$"
   ]
  },
  {
   "cell_type": "markdown",
   "metadata": {},
   "source": [
    "$n_{correct}$为被正确分类的样本个数，$n_{total}$为总样本的个数"
   ]
  },
  {
   "cell_type": "markdown",
   "metadata": {},
   "source": [
    "准确率是分类问题中最简单也是最直观的评价指标，但存在明显的缺陷，当不同总类的样本比例非常不均衡时，占比大的类别往往成为影响准确率的最主要因素。比如：当负样本占99%,分类器把所有样本都预测为负样本也可以得到99%的准确率，换句话说总体准确率高，并不代表类别比例小的准确率高"
   ]
  },
  {
   "cell_type": "markdown",
   "metadata": {},
   "source": [
    "# 精确率和召回率"
   ]
  },
  {
   "cell_type": "markdown",
   "metadata": {},
   "source": [
    "精确率是指正确分类的正样本个数占分类器判定为正样本的样本个数的比例\n",
    "\n",
    "召回率是指正确分类的正样本个数占真正的正样本数的比例"
   ]
  },
  {
   "cell_type": "markdown",
   "metadata": {},
   "source": [
    "Precison值和Recall值是既矛盾又统一的两个指标，为了提高Precison值，分类器需要尽量在‘更有把握’时才把样本预测为正样本，但此时往往会因为过于保守而漏掉很多‘没有把握’的正样本，导致Recall值降低"
   ]
  },
  {
   "cell_type": "markdown",
   "metadata": {},
   "source": [
    "在排序问题中，通常没有一个确定的阈值把得到的结果直接判定为正样本或负样本，而是采用TopN返回结果的Precision值和Recall值来衡量排序模型的性能，即认为模型返回的TopN的结果就是模型判定的正样本，然后计算N个位置上的Precision和前N个位置上的Recall"
   ]
  },
  {
   "cell_type": "code",
   "execution_count": 99,
   "metadata": {},
   "outputs": [
    {
     "name": "stdout",
     "output_type": "stream",
     "text": [
      "dict_keys(['DESCR', 'COL_NAMES', 'target', 'data'])\n"
     ]
    },
    {
     "name": "stderr",
     "output_type": "stream",
     "text": [
      "C:\\Anaconda3\\lib\\site-packages\\sklearn\\utils\\deprecation.py:77: DeprecationWarning: Function fetch_mldata is deprecated; fetch_mldata was deprecated in version 0.20 and will be removed in version 0.22\n",
      "  warnings.warn(msg, category=DeprecationWarning)\n",
      "C:\\Anaconda3\\lib\\site-packages\\sklearn\\utils\\deprecation.py:77: DeprecationWarning: Function mldata_filename is deprecated; mldata_filename was deprecated in version 0.20 and will be removed in version 0.22\n",
      "  warnings.warn(msg, category=DeprecationWarning)\n"
     ]
    }
   ],
   "source": [
    "from sklearn.datasets import fetch_mldata\n",
    "mnist = fetch_mldata('MNIST original')\n",
    "print(mnist.keys())"
   ]
  },
  {
   "cell_type": "markdown",
   "metadata": {},
   "source": [
    "# 使用SGDClassifer测试准确率，精确率、召回率和decision_function"
   ]
  },
  {
   "cell_type": "code",
   "execution_count": 4,
   "metadata": {},
   "outputs": [
    {
     "name": "stdout",
     "output_type": "stream",
     "text": [
      "dict_keys(['data', 'target', 'target_names', 'DESCR', 'feature_names', 'filename'])\n"
     ]
    }
   ],
   "source": [
    "from sklearn.datasets import load_iris\n",
    "\n",
    "iris = load_iris()\n",
    "print(iris.keys())"
   ]
  },
  {
   "cell_type": "code",
   "execution_count": 15,
   "metadata": {},
   "outputs": [
    {
     "name": "stdout",
     "output_type": "stream",
     "text": [
      "['setosa' 'versicolor' 'virginica']\n",
      "(150, 4) (150,)\n",
      "[[5.1 3.5 1.4 0.2]\n",
      " [4.9 3.  1.4 0.2]\n",
      " [4.7 3.2 1.3 0.2]\n",
      " [4.6 3.1 1.5 0.2]\n",
      " [5.  3.6 1.4 0.2]\n",
      " [5.4 3.9 1.7 0.4]\n",
      " [4.6 3.4 1.4 0.3]\n",
      " [5.  3.4 1.5 0.2]\n",
      " [4.4 2.9 1.4 0.2]\n",
      " [4.9 3.1 1.5 0.1]] [0 0 0 0 0 0 0 0 0 0]\n"
     ]
    }
   ],
   "source": [
    "x,y = iris['data'],iris['target']\n",
    "print(iris['target_names'])\n",
    "print(x.shape,y.shape)\n",
    "print(x[:10],y[:10])"
   ]
  },
  {
   "cell_type": "code",
   "execution_count": 49,
   "metadata": {},
   "outputs": [
    {
     "name": "stdout",
     "output_type": "stream",
     "text": [
      "120 30\n"
     ]
    }
   ],
   "source": [
    "from sklearn.model_selection import train_test_split\n",
    "x_train,x_test,y_train,y_test = train_test_split(x,y,test_size = 0.2,random_state=42)\n",
    "print(len(x_train),len(x_test))"
   ]
  },
  {
   "cell_type": "code",
   "execution_count": 93,
   "metadata": {},
   "outputs": [
    {
     "name": "stdout",
     "output_type": "stream",
     "text": [
      "SGDClassifier(alpha=0.0001, average=False, class_weight=None,\n",
      "       early_stopping=False, epsilon=0.1, eta0=0.0, fit_intercept=True,\n",
      "       l1_ratio=0.15, learning_rate='optimal', loss='hinge', max_iter=500,\n",
      "       n_iter=None, n_iter_no_change=5, n_jobs=None, penalty='l2',\n",
      "       power_t=0.5, random_state=None, shuffle=True, tol=inf,\n",
      "       validation_fraction=0.1, verbose=0, warm_start=False)\n"
     ]
    }
   ],
   "source": [
    "from sklearn.linear_model import SGDClassifier\n",
    "import numpy as np\n",
    "sgd_clf = SGDClassifier(max_iter=500,tol=np.inf)\n",
    "print(sgd_clf)"
   ]
  },
  {
   "cell_type": "code",
   "execution_count": 94,
   "metadata": {},
   "outputs": [
    {
     "name": "stdout",
     "output_type": "stream",
     "text": [
      "Fitting 5 folds for each of 7 candidates, totalling 35 fits\n",
      "{'alpha': 0.01}\n"
     ]
    },
    {
     "name": "stderr",
     "output_type": "stream",
     "text": [
      "[Parallel(n_jobs=-1)]: Using backend LokyBackend with 8 concurrent workers.\n",
      "[Parallel(n_jobs=-1)]: Done  35 out of  35 | elapsed:    0.0s finished\n",
      "C:\\Anaconda3\\lib\\site-packages\\sklearn\\model_selection\\_search.py:841: DeprecationWarning: The default of the `iid` parameter will change from True to False in version 0.22 and will be removed in 0.24. This will change numeric results when test-set sizes are unequal.\n",
      "  DeprecationWarning)\n"
     ]
    }
   ],
   "source": [
    "#使用网格搜索确认最佳参数\n",
    "from sklearn.model_selection import GridSearchCV\n",
    "param_grid = {'alpha':[0.0001,0.001,0.01,0.1,0.5,1,10]}\n",
    "gsc_clf = GridSearchCV(sgd_clf,param_grid,cv=5,verbose=2,n_jobs=-1)\n",
    "gsc_clf.fit(x_train,y_train)\n",
    "print(gsc_clf.best_params_)"
   ]
  },
  {
   "cell_type": "code",
   "execution_count": 96,
   "metadata": {},
   "outputs": [
    {
     "name": "stdout",
     "output_type": "stream",
     "text": [
      "[False False  True False False False False  True False False  True False\n",
      " False False False False  True False False  True False  True False  True\n",
      "  True  True  True  True False False]\n",
      "accuracy: 1.0\n",
      "precision: 1.0\n",
      "reccall: 1.0\n"
     ]
    }
   ],
   "source": [
    "from sklearn.metrics import accuracy_score,precision_score,recall_score\n",
    "sgd_clf = SGDClassifier(alpha = 0.01,max_iter=500,tol=np.inf)\n",
    "y_train_binary = (y_train==2)\n",
    "y_test_binary = (y_test==2)\n",
    "\n",
    "sgd_clf.fit(x_train,y_train_binary)\n",
    "y_pred = sgd_clf.predict(x_test)\n",
    "print(y_pred)\n",
    "print('accuracy:',accuracy_score(y_test_binary,y_pred))\n",
    "print('precision:',precision_score(y_test_binary,y_pred))\n",
    "print('reccall:',recall_score(y_test_binary,y_pred))"
   ]
  },
  {
   "cell_type": "code",
   "execution_count": 97,
   "metadata": {},
   "outputs": [
    {
     "data": {
      "text/plain": [
       "array([ -1.59514741, -21.33742071,   9.92195581,  -1.51654601,\n",
       "        -2.12670602, -20.28895799,  -5.77567603,   1.65149002,\n",
       "        -0.35750844,  -4.64594746,   1.3410811 , -19.41768147,\n",
       "       -22.50311942, -19.40036252, -20.84449669,  -1.84827056,\n",
       "         6.0664906 ,  -4.02912631,  -1.24477169,   5.78139401,\n",
       "       -18.27329839,   1.09062241, -18.78220914,   5.42302492,\n",
       "         2.97572375,   2.89445789,   5.31777898,   5.70412483,\n",
       "       -18.70094329, -18.28662067])"
      ]
     },
     "execution_count": 97,
     "metadata": {},
     "output_type": "execute_result"
    }
   ],
   "source": [
    "sgd_clf.decision_function(x_test)"
   ]
  },
  {
   "cell_type": "markdown",
   "metadata": {},
   "source": [
    "# 使用SVM测试准确率和decision_function"
   ]
  },
  {
   "cell_type": "code",
   "execution_count": 76,
   "metadata": {},
   "outputs": [
    {
     "name": "stdout",
     "output_type": "stream",
     "text": [
      "SVC(C=1.0, cache_size=200, class_weight=None, coef0=0.0,\n",
      "  decision_function_shape='ovr', degree=3, gamma='auto_deprecated',\n",
      "  kernel='rbf', max_iter=-1, probability=False, random_state=42,\n",
      "  shrinking=True, tol=0.001, verbose=False)\n"
     ]
    }
   ],
   "source": [
    "from sklearn.svm import SVC\n",
    "svc_clf = SVC(random_state=42)\n",
    "print(svc_clf)"
   ]
  },
  {
   "cell_type": "code",
   "execution_count": 80,
   "metadata": {},
   "outputs": [
    {
     "name": "stdout",
     "output_type": "stream",
     "text": [
      "[1 0 2 1 1 0 1 2 1 1 2 0 0 0 0 1 2 1 1 2 0 2 0 2 2 2 2 2 0 0]\n",
      "accuracy: 1.0\n"
     ]
    },
    {
     "name": "stderr",
     "output_type": "stream",
     "text": [
      "C:\\Anaconda3\\lib\\site-packages\\sklearn\\svm\\base.py:196: FutureWarning: The default value of gamma will change from 'auto' to 'scale' in version 0.22 to account better for unscaled features. Set gamma explicitly to 'auto' or 'scale' to avoid this warning.\n",
      "  \"avoid this warning.\", FutureWarning)\n"
     ]
    }
   ],
   "source": [
    "svc_clf.fit(x_train,y_train)\n",
    "y_pred = svc_clf.predict(x_test)\n",
    "print(y_pred)\n",
    "print('accuracy:',accuracy_score(y_test,y_pred))"
   ]
  },
  {
   "cell_type": "code",
   "execution_count": 78,
   "metadata": {},
   "outputs": [
    {
     "data": {
      "text/plain": [
       "array([[-0.34247012,  2.3545421 ,  0.98792802],\n",
       "       [ 2.33722198,  0.88091852, -0.2181405 ],\n",
       "       [-0.18833381,  0.83901002,  2.34932379],\n",
       "       [-0.35303414,  2.35000768,  1.00302646],\n",
       "       [-0.31330558,  2.28813783,  1.02516775],\n",
       "       [ 2.36507018,  0.85593114, -0.22100132],\n",
       "       [-0.27540886,  2.48027321,  0.79513565],\n",
       "       [-0.2863676 ,  1.00300792,  2.28335968],\n",
       "       [-0.3328408 ,  2.26376023,  1.06908057],\n",
       "       [-0.32006764,  2.5       ,  0.82006764],\n",
       "       [-0.31659828,  1.06215688,  2.2544414 ],\n",
       "       [ 2.38293247,  0.81784973, -0.2007822 ],\n",
       "       [ 2.37598257,  0.82541645, -0.20139902],\n",
       "       [ 2.37937215,  0.82869748, -0.20806963],\n",
       "       [ 2.38386256,  0.82223633, -0.2060989 ],\n",
       "       [-0.3241883 ,  2.30215196,  1.02203635],\n",
       "       [-0.28397955,  0.80983391,  2.47414564],\n",
       "       [-0.32261479,  2.47464289,  0.84797189],\n",
       "       [-0.35583633,  2.36421965,  0.99161669],\n",
       "       [-0.29353484,  0.82341044,  2.47012439],\n",
       "       [ 2.36890345,  0.83693733, -0.20584078],\n",
       "       [-0.34315674,  1.14297483,  2.20018192],\n",
       "       [ 2.37062394,  0.84995607, -0.22058001],\n",
       "       [-0.2989843 ,  0.84202715,  2.45695714],\n",
       "       [-0.21081527,  0.90569301,  2.30512227],\n",
       "       [-0.29587843,  0.95172969,  2.34414874],\n",
       "       [-0.27982915,  0.85436355,  2.4254656 ],\n",
       "       [-0.27248802,  0.82348877,  2.44899925],\n",
       "       [ 2.38006125,  0.82630272, -0.20636397],\n",
       "       [ 2.36761826,  0.84409269, -0.21171095]])"
      ]
     },
     "execution_count": 78,
     "metadata": {},
     "output_type": "execute_result"
    }
   ],
   "source": [
    "svc_clf.decision_function(x_test)"
   ]
  },
  {
   "cell_type": "markdown",
   "metadata": {},
   "source": [
    "# 均方误差、根均方误差、绝对百分比误差"
   ]
  },
  {
   "cell_type": "markdown",
   "metadata": {},
   "source": [
    "均方误差：$$MSE =\\frac{1}{n}\\sum_{i=1}^n(y_{pred} - y_i)^2$$ "
   ]
  },
  {
   "cell_type": "markdown",
   "metadata": {},
   "source": [
    "根均方误差：$$RMES = \\sqrt{MSE}$$"
   ]
  },
  {
   "cell_type": "markdown",
   "metadata": {},
   "source": [
    "均方误差和根均方误差都会受到异常值的影响，而影响最终的模型评估"
   ]
  },
  {
   "cell_type": "markdown",
   "metadata": {},
   "source": [
    "平均绝对百分比误差：$$MAPE = \\sum_{i=1}^n|\\frac{(y_{pred}-y_i)}{y_i}|*\\frac{100}{n}$$"
   ]
  },
  {
   "cell_type": "markdown",
   "metadata": {},
   "source": [
    "平均绝对百分比误差提高了异常值的鲁棒性，相当于把每个点的误差进行了归一化处理，降低了个别离群带来的绝对误差的影响"
   ]
  },
  {
   "cell_type": "markdown",
   "metadata": {},
   "source": [
    "# ROC曲线"
   ]
  },
  {
   "cell_type": "code",
   "execution_count": null,
   "metadata": {},
   "outputs": [],
   "source": []
  }
 ],
 "metadata": {
  "kernelspec": {
   "display_name": "Python 3",
   "language": "python",
   "name": "python3"
  },
  "language_info": {
   "codemirror_mode": {
    "name": "ipython",
    "version": 3
   },
   "file_extension": ".py",
   "mimetype": "text/x-python",
   "name": "python",
   "nbconvert_exporter": "python",
   "pygments_lexer": "ipython3",
   "version": "3.7.1"
  },
  "toc": {
   "base_numbering": 1,
   "nav_menu": {},
   "number_sections": true,
   "sideBar": true,
   "skip_h1_title": false,
   "title_cell": "Table of Contents",
   "title_sidebar": "Contents",
   "toc_cell": false,
   "toc_position": {},
   "toc_section_display": true,
   "toc_window_display": false
  }
 },
 "nbformat": 4,
 "nbformat_minor": 2
}
