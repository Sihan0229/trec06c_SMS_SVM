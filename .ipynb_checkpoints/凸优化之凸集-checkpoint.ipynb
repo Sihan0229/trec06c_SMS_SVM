{
 "cells": [
  {
   "cell_type": "markdown",
   "metadata": {},
   "source": [
    "# 仿射集合和凸集"
   ]
  },
  {
   "cell_type": "markdown",
   "metadata": {},
   "source": [
    "## 直线和线段表示"
   ]
  },
  {
   "cell_type": "markdown",
   "metadata": {},
   "source": [
    "设$x_1 \\neq x_2为R^n$空间中的两个点，那么具有下列形式的点$$y = \\theta x_1 + (1- \\theta)x_2,\\theta \\in R$$组成一条穿越$x_1$和$x_2$的直线，若参数$\\theta$的值在0和1之间变得，构成了$x_1和x_2之间的线段$"
   ]
  },
  {
   "cell_type": "markdown",
   "metadata": {},
   "source": [
    "## 仿射集合"
   ]
  },
  {
   "cell_type": "markdown",
   "metadata": {},
   "source": [
    "- (1)如果通过集合$C \\in R_n$中任意两个不同点的<b>直线</b>仍然在集合C中，那么称<b>集合C是仿射的</b> \n",
    "\n",
    "- (2)如果C是一个仿射集合，$x_1,x_2,...,x_k \\in C$,并且$\\theta_1+\\theta_2+...+\\theta_k = 1$使得$\\theta_1 x_1 + ... + \\theta_k x_k$仍然在C中，则称$\\theta_1 x_1 + ... + \\theta_k x_k$形式的点为$x_1,x_2,...,x_k$的<b>仿射组合</b>\n",
    "\n",
    "- (3)仿射包：$aff C=\\{\\theta_1x_1+...+\\theta_kx_k | x_1,...,x_k \\in C, \\theta_1+\\theta_2+...+\\theta_k = 1\\}$"
   ]
  },
  {
   "cell_type": "markdown",
   "metadata": {},
   "source": [
    "## 凸集合"
   ]
  },
  {
   "cell_type": "markdown",
   "metadata": {},
   "source": [
    "- (1)如果集合C中的任意两点间的线段仍然在C中，即对于任意$x_1,x_2 \\in C$满足$0 \\leq \\theta \\leq 1的\\theta$ 都有$\\theta x_1 + (1-\\theta)x_2 \\in C$,则集合C被称为<b>凸集</b>\n",
    "\n",
    "- (2)如果C是一个凸集，$x_1,x_2,...,x_k \\in C$,并且$\\theta_1+\\theta_2+...+\\theta_k = 1并且\\theta_i \\geq 0$使得$\\theta_1 x_1 + ... + \\theta_k x_k$仍然在C中，则称$\\theta_1 x_1 + ... + \\theta_k x_k$形式的点为$x_1,x_2,...,x_k$的<b>凸组合</b>\n",
    "\n",
    "- (3)凸包：$aff C=\\{\\theta_1x_1+...+\\theta_kx_k | x_i \\in C, \\theta_i \\geq 0 \\theta_1+\\theta_2+...+\\theta_k = 1\\}$"
   ]
  },
  {
   "cell_type": "markdown",
   "metadata": {},
   "source": [
    "## 锥"
   ]
  },
  {
   "cell_type": "markdown",
   "metadata": {},
   "source": [
    "凸锥：对于任意的$x_1,x_2 \\in C$和$\\theta_1,\\theta_2 \\geq 0$有$\\theta_1 x_1 + \\theta_2 x_2 \\in C$\n",
    "\n",
    "锥组合：$\\theta_1 x_1 +...+\\theta_k x_k且\\theta_1,...,\\theta_k \\geq 0$点集合\n",
    "\n",
    "锥包：${\\theta_1 x_1 +...+\\theta_k x_k | x_i \\in C,\\theta_i \\geq 0,i = 1,2,...,k}$"
   ]
  },
  {
   "cell_type": "markdown",
   "metadata": {},
   "source": [
    "## 重要的例子"
   ]
  },
  {
   "cell_type": "markdown",
   "metadata": {},
   "source": [
    "- (1)空集、任意一个点、全空间$R^n$都是$R^n$的仿射(自然也是凸的)子集\n",
    "- (2)任意直线都是仿射的，如果直线通过零点，则是子空间，因此也是锥\n",
    "- (3)一条线段是凸的，但不是仿射的(除非退化为一个点)\n",
    "- (4)一条射线，是凸的，但不是仿射的，如果射线的基点$x_0$是0,则它是凸锥\n",
    "- (5)任意子空间是仿射的，凸锥(自然是凸的)"
   ]
  },
  {
   "cell_type": "markdown",
   "metadata": {},
   "source": [
    "# 保凸运算"
   ]
  },
  {
   "cell_type": "code",
   "execution_count": null,
   "metadata": {},
   "outputs": [],
   "source": [
    "交集：交集运算是保凸的\n",
    "\n",
    "仿射函数\n",
    "\n",
    "线性可分及透视函数"
   ]
  }
 ],
 "metadata": {
  "kernelspec": {
   "display_name": "Python 3",
   "language": "python",
   "name": "python3"
  },
  "language_info": {
   "codemirror_mode": {
    "name": "ipython",
    "version": 3
   },
   "file_extension": ".py",
   "mimetype": "text/x-python",
   "name": "python",
   "nbconvert_exporter": "python",
   "pygments_lexer": "ipython3",
   "version": "3.7.1"
  },
  "toc": {
   "base_numbering": 1,
   "nav_menu": {},
   "number_sections": true,
   "sideBar": true,
   "skip_h1_title": false,
   "title_cell": "Table of Contents",
   "title_sidebar": "Contents",
   "toc_cell": false,
   "toc_position": {
    "height": "calc(100% - 180px)",
    "left": "10px",
    "top": "150px",
    "width": "178.84px"
   },
   "toc_section_display": true,
   "toc_window_display": true
  }
 },
 "nbformat": 4,
 "nbformat_minor": 2
}
