{
 "cells": [
  {
   "cell_type": "markdown",
   "metadata": {},
   "source": [
    "# 随机变量的协方差"
   ]
  },
  {
   "cell_type": "markdown",
   "metadata": {},
   "source": [
    "在概率和统计中，协方差是对两个随机变量联合分布线性相关程度的一种度量，两个随机变量越线性相关，协方差越大，完全线性无关，协方差为零"
   ]
  },
  {
   "cell_type": "markdown",
   "metadata": {},
   "source": [
    "$$cov(X,Y) = E[(X-E[X])(Y-E[Y])]$$"
   ]
  },
  {
   "cell_type": "markdown",
   "metadata": {},
   "source": [
    "当X，Y是同一个随机变量时，X与其自身的协方差就是X的方差，可以说方差是协方差的一个特例"
   ]
  },
  {
   "cell_type": "markdown",
   "metadata": {},
   "source": [
    "$$cov(X,X) = E[(X-E[X])(X-E[X])$$"
   ]
  },
  {
   "cell_type": "markdown",
   "metadata": {},
   "source": [
    "或$$var(X) = E[(X-E[X])^2]$$"
   ]
  },
  {
   "cell_type": "markdown",
   "metadata": {},
   "source": [
    "由于随机变量的取值范围不同，两个协方差不具备可比性，如X,Y,Z分别是三个随机变量，想要比较X与Y的线性相关程度强，还是X与Z的线性相关程度强，通过cov(X,Y)与cov(X,Z)无法直接比较，但可以定义相关系数$\\eta$,$\\eta$通过X的方差与Y的方差对协方差cov(X,Y)的归一化得到，$\\eta$取值范围[-1,1],1表示完全线性正相关，-1表示完全线性负相关，0表示线性无关，注意线性无关并不代表完全无关更不代表相互独立"
   ]
  },
  {
   "cell_type": "markdown",
   "metadata": {},
   "source": [
    "$$\\eta = \\frac{cov(X,Y)}{\\sqrt{var(X)\\bullet{var(Y)}}}$$"
   ]
  },
  {
   "cell_type": "markdown",
   "metadata": {},
   "source": [
    "# 样本协方差"
   ]
  },
  {
   "cell_type": "markdown",
   "metadata": {},
   "source": [
    "在实际中，通常我们手头会有一些样本，样本有多个属性，每个样本可以看成一个多维随机变量的样本点，我们需要分析各个维度之间的关系，协方差及相关系数是度量随机变量间线性无关的方法\n",
    "\n",
    "设：样本$X=[X_1，X_2,X_3,...,X_n]^T$,样本集合为$\\{{X_j = [X_{j1},X_{j2},...,X_{jn}]^T|1<=j<=m}\\}$,m为样本数量\n",
    "\n",
    "与计算方差相似，假设a,b为两个维度，则a和b两个维度样本的协方差公式为：$$q_{ab} = \\frac{\\sum_{j=1}^m(X_{ja} - \\overline{X}_a))(X_{jb}-\\overline{X}_b)}{m-1}$$\n"
   ]
  },
  {
   "cell_type": "markdown",
   "metadata": {},
   "source": [
    "其中1 <= a <= n,1 <= b <= n,n为样本维度，分母为m-1是因为随机变量的数学期望未知，以样本均值代替，自由度减1"
   ]
  },
  {
   "cell_type": "markdown",
   "metadata": {},
   "source": [
    "# 协方差矩阵"
   ]
  },
  {
   "cell_type": "markdown",
   "metadata": {},
   "source": [
    "知道随机变量或者样本协方差后，我们就可以通过各维度两两之间的协方差构成一个对称方阵，方阵的大小为维度的个数（n*n），对角线上的元素是各维度上随机变量的方差\n",
    "\n",
    "随机变量协方差矩阵可以写成：\n",
    "$$\n",
    "\\left[\\begin{array}{cccc} \n",
    "    E[(X_1-E[X_1])(X_1-E[X_1])] &    ...    & E[(X_1-E[X_1])(X_n-E[X_n])] \\\\ \n",
    "    ... &    ...   & ...\\\\ \n",
    "    E[(X_n-E[X_n])(X_1-E[X_1])] & ... & E[(X_n-E[X_n])(X_n-E[X_n])] \n",
    "\\end{array}\\right]\n",
    "$$"
   ]
  },
  {
   "cell_type": "markdown",
   "metadata": {},
   "source": [
    "样本协方差矩阵：\n",
    "$$\\frac{1}{m-1}\\sum_{j=1}^m{(X_{.j}-\\overline{X})(X_{.j}-\\overline{X})^T}$$"
   ]
  },
  {
   "cell_type": "markdown",
   "metadata": {},
   "source": [
    "很多时候我们只关注不同维度间的线性关系，且要求这种线性关系可以相互比较，所以通常会在计算协方差矩阵之前对样本进行归一化处理，包括两部分：\n",
    "1. $Y_{.j} = X_{.j} - \\overline{X}$\n",
    "2. $Z_i = \\frac{Y_i}{\\sigma{_i}}$"
   ]
  },
  {
   "cell_type": "markdown",
   "metadata": {},
   "source": [
    "协方差矩阵可以写成：$$\\frac{1}{m-1}\\sum_{j=1}^m{X_{.j}Z_{.j}^T}$$"
   ]
  },
  {
   "cell_type": "markdown",
   "metadata": {},
   "source": [
    "# 奇异值分解"
   ]
  },
  {
   "cell_type": "markdown",
   "metadata": {},
   "source": [
    "奇异值分解是一个能适用于任意矩阵的一种分解方法：$$A = U\\xi{V}^T$$"
   ]
  },
  {
   "cell_type": "markdown",
   "metadata": {},
   "source": [
    "假设A是一个M*N的矩阵，那么U就是M*M的方阵（里面的向量是正交的，U里面向量为左奇异向量），$\\xi$为M*N的实数对角矩阵（对角线以外的元素都是0，对角线上的元素为奇异值），\n",
    "$V^T$是一个N*N的矩阵（里面的向量是正交的，V里面的向量称为右奇异向量）"
   ]
  },
  {
   "cell_type": "markdown",
   "metadata": {},
   "source": [
    "再结合特征值分解：$$(A^T\\bullet{A})\\bullet{V_i} = \\lambda{_i}\\bullet{V_i}$$"
   ]
  },
  {
   "cell_type": "markdown",
   "metadata": {},
   "source": [
    "上面得到的$V_i$就是奇异值分解种的右奇异向量，$\\lambda{_i}$为特征值"
   ]
  },
  {
   "cell_type": "markdown",
   "metadata": {},
   "source": [
    "此外我们还可以得到：$$\\sigma{_i} = \\sqrt{\\lambda{_i}}\\\\u_i=\\frac{1}{\\sigma{_i}}AV_i$$"
   ]
  },
  {
   "cell_type": "markdown",
   "metadata": {},
   "source": [
    "上面的$\\sigma{_i}为奇异值$，$u_i$为左奇异向量"
   ]
  },
  {
   "cell_type": "markdown",
   "metadata": {},
   "source": [
    "常见的做法是将奇异值由大到小排列，在大多数情况下，前10%甚至1%的奇异值的和就占了全部奇异值和的99%以上，也就是说我们可以用前r大的奇异值来近似描述矩阵\n",
    "$$A_{m\\times{n}}\\approx{U_{m\\times{r}}\\xi{_{r\\times{r}}}V_{r\\times{n}}^T}$$"
   ]
  },
  {
   "cell_type": "markdown",
   "metadata": {},
   "source": [
    "r是一个远小于m,n的数"
   ]
  },
  {
   "cell_type": "markdown",
   "metadata": {},
   "source": [
    "# PCA主成分分析"
   ]
  },
  {
   "cell_type": "markdown",
   "metadata": {},
   "source": [
    "主成分分析法是尽可能地忠实再现原始数据的所有信息的降维方法，具体而言，就是在降维后的输入$z_i$是原始训练输入样本$x_i$的正投影这一约束条件下条件下设计投影矩阵T,\n",
    "让$z_i$和$x_i$尽可能相似。$z_i$是$x_i$正投影这一假设，与投影矩阵满足T满足$TT^T = I_m$是等价的"
   ]
  },
  {
   "cell_type": "markdown",
   "metadata": {},
   "source": [
    "度量$z_i$和$x_i$的还原程度可以使用平方差\n",
    "\n",
    "由于当$z_i$和$x_i$的维度不一样的时候，并不能直接计算其平方差，因此一般先将$z_i$通过$T^T$变换到d维空间（与$x_i$维度相同），再计算其与$x_i$的距离\n",
    "$$\\sum_{i=1}^n{||T^TTx_i - x_i||}^2 = -tr(TCT^T) + tr(C)$$,其中C为训练输入样本的协方差矩阵：$$C = XX^T$$"
   ]
  },
  {
   "cell_type": "markdown",
   "metadata": {},
   "source": [
    "要使得$\\sum_{i=1}^n{||T^TTx_i - x_i||}^2$最小，则需$tr(TCT^T)$在$TT^T = I$的情况下最大，根据特征值分解$$TT^T\\xi = \\lambda\\xi (\\lambda_1 >= \\lambda_2 >= ... >=\\lambda_d>=0)$$"
   ]
  },
  {
   "cell_type": "markdown",
   "metadata": {},
   "source": [
    "则主成分分析的解可以通过下式求得：$$T = (\\xi_i)^T$$"
   ]
  },
  {
   "cell_type": "markdown",
   "metadata": {},
   "source": [
    "也就是说主成分分析的投影矩阵就是通过向训练输入样本的协方差矩阵C中的较大的m个特征值所对应的特征向量张成的局部空间投影而得到的，于此相反，通过把较小的特征值所对应的特征向量进行消减，与原始样本的偏离就可以达到最小"
   ]
  },
  {
   "cell_type": "markdown",
   "metadata": {},
   "source": [
    "协方差矩阵计算方式有：np.cov()和np.linalg.svd()"
   ]
  },
  {
   "cell_type": "markdown",
   "metadata": {},
   "source": [
    "# NumPy实现PCA"
   ]
  },
  {
   "cell_type": "code",
   "execution_count": 8,
   "metadata": {},
   "outputs": [],
   "source": [
    "#使用\\datasets\\testSet.txt数据集\n",
    "import numpy as np\n",
    "def loadDataset(file):\n",
    "    with open(file,'r') as pf:\n",
    "        linestring = [line.strip().split('\\t') for line in pf]\n",
    "        features = [[float(i) for i in features] for features in linestring]\n",
    "        return np.mat(features)"
   ]
  },
  {
   "cell_type": "code",
   "execution_count": 9,
   "metadata": {},
   "outputs": [
    {
     "name": "stdout",
     "output_type": "stream",
     "text": [
      "(1000, 2)\n"
     ]
    }
   ],
   "source": [
    "datamat = loadDataset('.\\\\datasets\\\\testSet.txt')\n",
    "print(datamat.shape)"
   ]
  },
  {
   "cell_type": "code",
   "execution_count": 10,
   "metadata": {},
   "outputs": [],
   "source": [
    "def pac(datamat):\n",
    "    mean_vals = np.mean(datamat,axis = 0) \n",
    "    mean_proc = datamat - mean_vals #对每个特征值进行中心化处理\n",
    "    covmat = np.cov(mean_proc,rowvar=False) #计算协方差矩阵\n",
    "    print(covmat)\n",
    "    eigvals,eigvects = np.linalg.eig(np.mat(covmat)) #计算协方差矩阵的特征值和特征向量\n",
    "    eigval_index = np.argsort(eigvals)\n",
    "    eigval_index = eigval_index[:-2:-1] #从小到大排序\n",
    "    red_eigvects = eigvects[:,eigval_index] \n",
    "    low_d_datamat = mean_proc.dot(red_eigvects) #最佳投影矩阵为协方差特征向量矩阵\n",
    "    reconmat = (low_d_datamat.dot(red_eigvects.T)) + mean_vals\n",
    "    print(low_d_datamat.shape)\n",
    "    print(reconmat.shape)\n",
    "    return low_d_datamat,reconmat"
   ]
  },
  {
   "cell_type": "code",
   "execution_count": 11,
   "metadata": {},
   "outputs": [
    {
     "name": "stdout",
     "output_type": "stream",
     "text": [
      "[[1.05198368 1.1246314 ]\n",
      " [1.1246314  2.21166499]]\n",
      "(1000, 1)\n",
      "(1000, 2)\n"
     ]
    }
   ],
   "source": [
    "low_d_datamat,reconmat = pac(datamat)"
   ]
  },
  {
   "cell_type": "code",
   "execution_count": null,
   "metadata": {},
   "outputs": [],
   "source": []
  }
 ],
 "metadata": {
  "kernelspec": {
   "display_name": "Python 3",
   "language": "python",
   "name": "python3"
  },
  "language_info": {
   "codemirror_mode": {
    "name": "ipython",
    "version": 3
   },
   "file_extension": ".py",
   "mimetype": "text/x-python",
   "name": "python",
   "nbconvert_exporter": "python",
   "pygments_lexer": "ipython3",
   "version": "3.7.1"
  },
  "toc": {
   "base_numbering": 1,
   "nav_menu": {},
   "number_sections": true,
   "sideBar": true,
   "skip_h1_title": false,
   "title_cell": "Table of Contents",
   "title_sidebar": "Contents",
   "toc_cell": false,
   "toc_position": {},
   "toc_section_display": true,
   "toc_window_display": false
  }
 },
 "nbformat": 4,
 "nbformat_minor": 2
}
