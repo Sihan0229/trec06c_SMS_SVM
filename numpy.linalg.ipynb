{
 "cells": [
  {
   "cell_type": "markdown",
   "metadata": {},
   "source": [
    "# 常用的与线性代数相关的函数"
   ]
  },
  {
   "cell_type": "raw",
   "metadata": {},
   "source": [
    "diag    以一维数组的形式返回方正的对角线元素或将一维数组转换为方阵\n",
    "dot     矩阵乘法\n",
    "trace   矩阵的迹（计算对角元素的和）\n",
    "det     计算矩阵的行列式\n",
    "eig     计算方阵的本征值和本征向量\n",
    "inv     计算方阵的逆\n",
    "pinv    计算矩阵的Moore_Penrose伪逆\n",
    "qr      计算QR分解\n",
    "svd     计算奇异值分解\n",
    "solve   解线性方程组"
   ]
  },
  {
   "cell_type": "markdown",
   "metadata": {},
   "source": [
    "def mean(a, axis, dtype, out，keepdims )\n",
    "\n",
    "def cov(m, y=None, rowvar=True, bias=False, ddof=None, fweights=None,aweights=None)"
   ]
  },
  {
   "cell_type": "markdown",
   "metadata": {},
   "source": [
    "# PCA"
   ]
  },
  {
   "cell_type": "markdown",
   "metadata": {},
   "source": [
    "创建三维数据集"
   ]
  },
  {
   "cell_type": "code",
   "execution_count": 68,
   "metadata": {},
   "outputs": [],
   "source": [
    "import numpy as np\n",
    "\n",
    "np.random.seed(4)\n",
    "m = 60\n",
    "w1, w2 = 0.1, 0.3\n",
    "noise = 0.1\n",
    "\n",
    "angles = np.random.rand(m) * 3 * np.pi / 2 - 0.5\n",
    "X = np.empty((m, 3))\n",
    "X[:, 0] = np.cos(angles) + np.sin(angles)/2 + noise * np.random.randn(m) / 2\n",
    "X[:, 1] = np.sin(angles) * 0.7 + noise * np.random.randn(m) / 2\n",
    "X[:, 2] = X[:, 0] * w1 + X[:, 1] * w2 + noise * np.random.randn(m)"
   ]
  },
  {
   "cell_type": "markdown",
   "metadata": {},
   "source": [
    "主成分矩阵"
   ]
  },
  {
   "cell_type": "markdown",
   "metadata": {},
   "source": [
    "$\n",
    "\\mathbf{V} =\n",
    "\\begin{pmatrix}\n",
    "  \\mid & \\mid & & \\mid \\\\\n",
    "  \\mathbf{c_1} & \\mathbf{c_2} & \\cdots & \\mathbf{c_n} \\\\\n",
    "  \\mid & \\mid & & \\mid\n",
    "\\end{pmatrix}\n",
    "$\n",
    "\n",
    "$X = U\\bullet{s}\\bullet{V}$"
   ]
  },
  {
   "cell_type": "code",
   "execution_count": 69,
   "metadata": {},
   "outputs": [
    {
     "name": "stdout",
     "output_type": "stream",
     "text": [
      "[[ 0.93636116  0.29854881  0.18465208]\n",
      " [-0.34027485  0.90119108  0.2684542 ]\n",
      " [-0.08626012 -0.31420255  0.94542898]]\n",
      "[[6.77645005 0.         0.        ]\n",
      " [0.         2.82403671 0.        ]\n",
      " [0.         0.         0.78116597]]\n"
     ]
    }
   ],
   "source": [
    "X_centered = X - X.mean(axis=0)\n",
    "U,s,V = np.linalg.svd(X_centered)\n",
    "print(V)\n",
    "print(np.diag(s))"
   ]
  },
  {
   "cell_type": "code",
   "execution_count": 70,
   "metadata": {},
   "outputs": [
    {
     "name": "stdout",
     "output_type": "stream",
     "text": [
      "[0.93636116 0.29854881 0.18465208]\n"
     ]
    }
   ],
   "source": [
    "c1 = V.T[:,0]\n",
    "c2 = V.T[:,1]\n",
    "print(c1)"
   ]
  },
  {
   "cell_type": "code",
   "execution_count": 71,
   "metadata": {},
   "outputs": [
    {
     "data": {
      "text/plain": [
       "True"
      ]
     },
     "execution_count": 71,
     "metadata": {},
     "output_type": "execute_result"
    }
   ],
   "source": [
    "m,n = X.shape\n",
    "S = np.zeros(X_centered.shape)\n",
    "S[:n,:n] = np.diag(s)\n",
    "np.allclose(X_centered,U.dot(S).dot(V))"
   ]
  },
  {
   "cell_type": "markdown",
   "metadata": {},
   "source": [
    "底维度投影"
   ]
  },
  {
   "cell_type": "markdown",
   "metadata": {},
   "source": [
    "一旦确定了所有的主成分，就可以将数据集投影到由前d个主成分定义的超平面上，从而将数据集的维度降到d维，这个超平面的选择，能确保投影保留尽可能多的差异性"
   ]
  },
  {
   "cell_type": "markdown",
   "metadata": {},
   "source": [
    "将训练集投影到底维度：$$X_{d-proj} = X \\bullet W_d$$"
   ]
  },
  {
   "cell_type": "code",
   "execution_count": 72,
   "metadata": {},
   "outputs": [
    {
     "name": "stdout",
     "output_type": "stream",
     "text": [
      "(60, 2)\n"
     ]
    }
   ],
   "source": [
    "w2 = V.T[:,:2]\n",
    "X2D = X_centered.dot(w2)\n",
    "print(X2D.shape)"
   ]
  },
  {
   "cell_type": "markdown",
   "metadata": {},
   "source": [
    "# NumPy实现PCA"
   ]
  },
  {
   "cell_type": "code",
   "execution_count": 38,
   "metadata": {},
   "outputs": [],
   "source": [
    "#使用\\datasets\\testSet.txt数据集\n",
    "import numpy as np\n",
    "def loadDataset(file):\n",
    "    with open(file,'r') as pf:\n",
    "        linestring = [line.strip().split('\\t') for line in pf]\n",
    "        features = [[float(i) for i in features] for features in linestring]\n",
    "        return np.mat(features)"
   ]
  },
  {
   "cell_type": "code",
   "execution_count": 45,
   "metadata": {},
   "outputs": [
    {
     "name": "stdout",
     "output_type": "stream",
     "text": [
      "(1000, 2)\n"
     ]
    }
   ],
   "source": [
    "datamat = loadDataset('.\\\\datasets\\\\testSet.txt')\n",
    "print(datamat.shape)"
   ]
  },
  {
   "cell_type": "code",
   "execution_count": 78,
   "metadata": {},
   "outputs": [],
   "source": [
    "def pac(datamat):\n",
    "    mean_vals = np.mean(datamat,axis = 0) \n",
    "    mean_proc = datamat - mean_vals #对每个特征值进行中心化处理\n",
    "    covmat = np.cov(mean_proc,rowvar=False) #计算协方差矩阵\n",
    "    print(covmat)\n",
    "    eigvals,eigvects = np.linalg.eig(np.mat(covmat)) #计算协方差矩阵的特征值和特征向量\n",
    "    eigval_index = np.argsort(eigvals)\n",
    "    eigval_index = eigval_index[:-2:-1] #从小到大排序\n",
    "    red_eigvects = eigvects[:,eigval_index] \n",
    "    low_d_datamat = mean_proc.dot(red_eigvects) #最佳投影矩阵为协方差特征向量矩阵\n",
    "    reconmat = (low_d_datamat.dot(red_eigvects.T)) + mean_vals\n",
    "    print(low_d_datamat.shape)\n",
    "    print(reconmat.shape)\n",
    "    return low_d_datamat,reconmat"
   ]
  },
  {
   "cell_type": "code",
   "execution_count": 79,
   "metadata": {},
   "outputs": [
    {
     "name": "stdout",
     "output_type": "stream",
     "text": [
      "[[1.05198368 1.1246314 ]\n",
      " [1.1246314  2.21166499]]\n",
      "(1000, 1)\n",
      "(1000, 2)\n",
      "[[-2.51033597]]\n"
     ]
    }
   ],
   "source": [
    "low_d_datamat,reconmat = pac(datamat)"
   ]
  },
  {
   "cell_type": "code",
   "execution_count": null,
   "metadata": {},
   "outputs": [],
   "source": []
  }
 ],
 "metadata": {
  "kernelspec": {
   "display_name": "Python 3",
   "language": "python",
   "name": "python3"
  },
  "language_info": {
   "codemirror_mode": {
    "name": "ipython",
    "version": 3
   },
   "file_extension": ".py",
   "mimetype": "text/x-python",
   "name": "python",
   "nbconvert_exporter": "python",
   "pygments_lexer": "ipython3",
   "version": "3.7.1"
  },
  "toc": {
   "base_numbering": 1,
   "nav_menu": {},
   "number_sections": true,
   "sideBar": true,
   "skip_h1_title": false,
   "title_cell": "Table of Contents",
   "title_sidebar": "Contents",
   "toc_cell": false,
   "toc_position": {},
   "toc_section_display": true,
   "toc_window_display": false
  }
 },
 "nbformat": 4,
 "nbformat_minor": 2
}
