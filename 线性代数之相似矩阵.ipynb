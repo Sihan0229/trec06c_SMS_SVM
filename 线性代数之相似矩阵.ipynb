{
 "cells": [
  {
   "cell_type": "markdown",
   "metadata": {},
   "source": [
    "# 方阵的特征值与特征向量"
   ]
  },
  {
   "cell_type": "markdown",
   "metadata": {},
   "source": [
    "<b>定义:</b>设A为n阶矩阵，如果数$\\lambda$和n维非零向量x使关系式$$Ax = \\lambda x$$成立，那么，这样的数$\\lambda$称为矩阵的A的特征值，非零向量x称为A的对应的特征值$\\lambda$的特征向量\n",
    "\n",
    "上式也可以写成$$(A - \\lambda E)X = 0$$,这是n个未知数n个方程的齐次线性方程组，它有非零解的充分必要条件是系数行列式$$|A - \\lambda E| = 0$$,即$$\n",
    " \\left[\n",
    " \\begin{matrix}\n",
    "   a_{11}-\\lambda &a_{12} &...&a_{1n}\\\\\n",
    "   a_{21} &a_{22}-\\lambda &...&a_{2n}\\\\\n",
    "   ... & ... & ... & ... \\\\\n",
    "   a_{n1} & a_{n2} &...& a_{nn}-\\lambda\n",
    "  \\end{matrix}\n",
    "  \\right] = 0$$,\n",
    "  根据特征值全部不为0可以得到\n",
    "  - (1)$\\lambda_1+\\lambda_2+...+\\lambda_n$ = $a_{11} + a_{22}+...+{a_{nn}}$\n",
    "  - (2)$\\lambda_1 \\lambda_2 ... \\lambda_n$ = $|A|$"
   ]
  },
  {
   "cell_type": "markdown",
   "metadata": {},
   "source": [
    "通过上面的描述，我们可以通过$|A - \\lambda E| = 0$求出矩阵A的特征值，再根据$(A - \\lambda E)X = 0$求出特征向量"
   ]
  },
  {
   "cell_type": "markdown",
   "metadata": {},
   "source": [
    "<b>定理1：</b>设$\\lambda_1,\\lambda_2,...,\\lambda_n$是方阵A的n个特征值，$p_1,p_2,...,p_n$依次是与之对应的特征向量，如果$\\lambda_1,\\lambda_2,...,\\lambda_n$各不相等，则$p_1,p_2,...,p_n$线性无关"
   ]
  },
  {
   "cell_type": "markdown",
   "metadata": {},
   "source": [
    "# 相似矩阵"
   ]
  },
  {
   "cell_type": "markdown",
   "metadata": {},
   "source": [
    "<b>定义:</b>设A,B都是n阶矩阵，若有可逆矩阵P，使得$$P^{-1}AP = B$$，则称B是A的相似矩阵，或说矩阵A与B相似，对A进行运算$P^{-1}AP$称为对A进行相似变换，可逆矩阵P称为把A变成B的相似变换矩阵"
   ]
  },
  {
   "cell_type": "markdown",
   "metadata": {},
   "source": [
    "<b>定理2:</b>若n阶矩阵A与B相似，则A与B的特征多项式相同，从而A与B的特征值亦相同"
   ]
  },
  {
   "cell_type": "markdown",
   "metadata": {},
   "source": [
    "<b>定理3:</b>n阶矩阵A与对角矩阵相似(即A能对角化)的充分必要条件是A有n个线性无关的特征向量\n",
    "\n",
    "<b>推论：</b>如果n阶矩阵A的n个特征值互不相等，则A与对角矩阵相似"
   ]
  },
  {
   "cell_type": "markdown",
   "metadata": {},
   "source": [
    "# 对称矩阵的对角化"
   ]
  },
  {
   "cell_type": "markdown",
   "metadata": {},
   "source": [
    "一个n阶矩阵具备什么条件才能对角化？这是一个较复杂的问题，我们对此不进行一般性的讨论，而仅讨论当A为对称矩阵的情形"
   ]
  },
  {
   "cell_type": "markdown",
   "metadata": {},
   "source": [
    "对称矩阵的特征值和特征向量的性质\n",
    "- (1)对称矩阵的特征值是实数\n",
    "- (2)设$\\lambda_1,\\lambda_2$是对称矩阵A的两个特征值，$p_1,p_2$是对应的特征向量，若$\\lambda_1 != \\lambda_2$，则$p_1与p_2$正交"
   ]
  },
  {
   "cell_type": "markdown",
   "metadata": {},
   "source": [
    "<b>定理4:</b>设A为n阶对称矩阵，则必有正交矩阵P,使得$p^{-1}Ap = p^{T}Ap = \\xi$"
   ]
  },
  {
   "cell_type": "code",
   "execution_count": null,
   "metadata": {},
   "outputs": [],
   "source": []
  }
 ],
 "metadata": {
  "kernelspec": {
   "display_name": "Python 3",
   "language": "python",
   "name": "python3"
  },
  "language_info": {
   "codemirror_mode": {
    "name": "ipython",
    "version": 3
   },
   "file_extension": ".py",
   "mimetype": "text/x-python",
   "name": "python",
   "nbconvert_exporter": "python",
   "pygments_lexer": "ipython3",
   "version": "3.6.7"
  },
  "toc": {
   "base_numbering": 1,
   "nav_menu": {},
   "number_sections": true,
   "sideBar": true,
   "skip_h1_title": false,
   "title_cell": "Table of Contents",
   "title_sidebar": "Contents",
   "toc_cell": false,
   "toc_position": {
    "height": "calc(100% - 180px)",
    "left": "10px",
    "top": "150px",
    "width": "191.34px"
   },
   "toc_section_display": true,
   "toc_window_display": true
  }
 },
 "nbformat": 4,
 "nbformat_minor": 2
}
