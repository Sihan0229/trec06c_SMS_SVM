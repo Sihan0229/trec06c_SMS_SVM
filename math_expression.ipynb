{
 "cells": [
  {
   "cell_type": "markdown",
   "metadata": {},
   "source": [
    "均方差损失函数：$$L(w)={\\frac{1}{m}}\\sum_{i=0}^n(W^TX-Y)^2$$"
   ]
  },
  {
   "cell_type": "markdown",
   "metadata": {},
   "source": [
    "闭式解求w:$$w = (X^T * X)^{-1} * X^T * Y$$"
   ]
  },
  {
   "cell_type": "markdown",
   "metadata": {},
   "source": [
    "梯度：$${\\frac{\\delta}{\\delta\\theta_j}} = {\\frac{2}{m}}\\sum_{i=0}^n(\\theta^T{\\bullet}x^{(i)} - y^{(i)})x_{j}^{(i)}$$\n",
    "$${\\frac{\\delta}{\\delta\\theta_j}} = {\\frac{2}{m}}X^T{\\bullet}(X{\\bullet}\\theta-y)$$"
   ]
  },
  {
   "cell_type": "markdown",
   "metadata": {},
   "source": [
    "一范数损失函数：$$L(\\theta) = MSE(\\theta) + \\sum_{i=1}^n|\\theta_i|$$"
   ]
  },
  {
   "cell_type": "markdown",
   "metadata": {},
   "source": [
    "二范数损失函数：$$L(\\theta) = MSE(\\theta) + {\\alpha}{\\frac{1}{2}}\\sum_{i=1}^n{\\theta}_i^2$$"
   ]
  },
  {
   "cell_type": "markdown",
   "metadata": {},
   "source": [
    "闭式解二范数最优$\\theta$:$$\\theta = (X^T{\\bullet}T + {\\alpha}A)^{-1}{\\bullet}X^T{\\bullet}y$$"
   ]
  },
  {
   "cell_type": "markdown",
   "metadata": {},
   "source": [
    "弹性网络损失函数：$$L(\\theta) = MSE(\\theta) + r\\alpha\\sum_{i=1}^n|\\theta_i| + {\\frac{1-r}{2}}\\theta\\sum_{i=1}^n\\theta_i^2$$"
   ]
  },
  {
   "cell_type": "markdown",
   "metadata": {},
   "source": [
    "逻辑回归的损失函数：$$L(\\theta) = -\\frac{1}{m}\\sum_{i=1}^n[y^{(i)}log(p^{i}) + (1-y^{i})log(1-p^{i})]$$"
   ]
  },
  {
   "cell_type": "markdown",
   "metadata": {},
   "source": [
    "逻辑回归偏导数：$${\\frac{\\delta}{\\delta\\theta_j}L(\\theta)} = {\\frac{1}{m}}\\sum_{i=0}^n(\\sigma(\\theta^T{\\bullet}x^{(i)}) - y^{(i)})x_{j}^{(i)}$$"
   ]
  },
  {
   "cell_type": "code",
   "execution_count": null,
   "metadata": {},
   "outputs": [],
   "source": []
  }
 ],
 "metadata": {
  "kernelspec": {
   "display_name": "Python 3",
   "language": "python",
   "name": "python3"
  },
  "language_info": {
   "codemirror_mode": {
    "name": "ipython",
    "version": 3
   },
   "file_extension": ".py",
   "mimetype": "text/x-python",
   "name": "python",
   "nbconvert_exporter": "python",
   "pygments_lexer": "ipython3",
   "version": "3.7.1"
  },
  "toc": {
   "base_numbering": 1,
   "nav_menu": {},
   "number_sections": true,
   "sideBar": true,
   "skip_h1_title": false,
   "title_cell": "Table of Contents",
   "title_sidebar": "Contents",
   "toc_cell": false,
   "toc_position": {},
   "toc_section_display": true,
   "toc_window_display": false
  }
 },
 "nbformat": 4,
 "nbformat_minor": 2
}
