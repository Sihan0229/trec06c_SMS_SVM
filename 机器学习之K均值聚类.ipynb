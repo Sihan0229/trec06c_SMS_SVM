{
 "cells": [
  {
   "cell_type": "markdown",
   "metadata": {},
   "source": [
    "聚类的核心概念是相似度或距离，有很多相似度或距离的方法，比如欧式距离、马氏距离、相关系数、余弦定理、层次聚类和K均值聚类等"
   ]
  },
  {
   "cell_type": "markdown",
   "metadata": {},
   "source": [
    "# K均值聚类思想"
   ]
  },
  {
   "cell_type": "markdown",
   "metadata": {},
   "source": [
    "K均值聚类的基本思想是，通过迭代的方法寻找K个簇的一种划分方案，使得聚类结果对应的代价函数最小，特别地，代价函数可以定义为各个样本距离所属簇中心点的误差平方和$$J(c,\\sigma) = \\sum_{i=1}^M{||x_i - \\sigma_{c_i}||}^2$$\n",
    "\n",
    "其中$x_i$代表第i个样本点，$c_i$是$x_i$所属于的簇，$\\sigma_{c_i}$代表簇对应的中心点，M是样本总数"
   ]
  },
  {
   "cell_type": "markdown",
   "metadata": {},
   "source": [
    "<b>步骤：</b>\n",
    "\n",
    "(1) 随机确定K个中心点\n",
    "\n",
    "(2) 根据欧式距离确定围绕K个中心点的簇\n",
    "\n",
    "(3) 根据当前所分的K的簇重新确立中心点\n",
    "\n",
    "(4) 反复迭代步骤(2)(3)直到损失最小"
   ]
  },
  {
   "cell_type": "markdown",
   "metadata": {},
   "source": [
    "# K-Mean_Cluster算法实现"
   ]
  },
  {
   "cell_type": "markdown",
   "metadata": {},
   "source": [
    "使用'/datasets/kmeansTestSet.txt'数据集测试K均值聚类算法"
   ]
  },
  {
   "cell_type": "code",
   "execution_count": 183,
   "metadata": {},
   "outputs": [],
   "source": [
    "def loadDataset(file):\n",
    "    dataset = []\n",
    "    with open(file,'r') as pf:\n",
    "        for line in pf:\n",
    "            dataset.append([float(x) for x in line.strip().split('\\t')])\n",
    "    return dataset"
   ]
  },
  {
   "cell_type": "code",
   "execution_count": 184,
   "metadata": {},
   "outputs": [
    {
     "name": "stdout",
     "output_type": "stream",
     "text": [
      "80\n",
      "[[1.658985, 4.285136], [-3.453687, 3.424321], [4.838138, -1.151539], [-5.379713, -3.362104], [0.972564, 2.924086]]\n"
     ]
    }
   ],
   "source": [
    "#加载数据\n",
    "dataset = loadDataset('./datasets/kmeansTestSet.txt')\n",
    "print(len(dataset))\n",
    "print(dataset[:5])"
   ]
  },
  {
   "cell_type": "code",
   "execution_count": 185,
   "metadata": {},
   "outputs": [],
   "source": [
    "import numpy as np\n",
    "#对数据进行归一化处理\n",
    "def normalize(dataset):\n",
    "    dataMat = np.mat(dataset)\n",
    "    mean = np.mean(dataMat)\n",
    "    var = np.var(dataMat)\n",
    "    meanDataMat = (dataMat - mean) / var #将数据进行归一化处理\n",
    "    return meanDataMat"
   ]
  },
  {
   "cell_type": "code",
   "execution_count": 186,
   "metadata": {},
   "outputs": [],
   "source": [
    "import matplotlib.pyplot as plt\n",
    "import pandas as pd\n",
    "\n",
    "#以图形方式展现数据\n",
    "def plotDataset(meanDataMat,pointCenter = False,centerPointerMat=None):\n",
    "    dataFrame = pd.DataFrame(meanDataMat) #转换为DataFrame,方便查看数据属性\n",
    "    print(dataFrame.describe())\n",
    "    #plt.axis([0,1,0,1])\n",
    "    plt.plot(meanDataMat[:,0],meanDataMat[:,1],'r*')\n",
    "    if pointCenter:\n",
    "        plt.plot(centerPointerMat[:,0],centerPointerMat[:,1],'b*')\n",
    "    plt.show()"
   ]
  },
  {
   "cell_type": "code",
   "execution_count": 187,
   "metadata": {},
   "outputs": [
    {
     "name": "stdout",
     "output_type": "stream",
     "text": [
      "               0          1\n",
      "count  80.000000  80.000000\n",
      "mean   -0.008614   0.008614\n",
      "std     0.331392   0.333145\n",
      "min    -0.584224  -0.459075\n",
      "25%    -0.306803  -0.325977\n",
      "50%     0.005867   0.019362\n",
      "75%     0.290189   0.323504\n",
      "max     0.530519   0.568950\n"
     ]
    },
    {
     "data": {
      "image/png": "[encoded data removed]",
      "text/plain": [
       "<Figure size 432x288 with 1 Axes>"
      ]
     },
     "metadata": {
      "needs_background": "light"
     },
     "output_type": "display_data"
    }
   ],
   "source": [
    "meanDataMat = normalize(dataset)\n",
    "plotDataset(meanDataMat)"
   ]
  },
  {
   "cell_type": "code",
   "execution_count": 188,
   "metadata": {},
   "outputs": [],
   "source": [
    "def distance(vectA,vectB):\n",
    "    Power = np.power((vectA - vectB),2)\n",
    "    Sum = np.sum(Power,axis = 1)\n",
    "    return float(np.sqrt(Sum)) "
   ]
  },
  {
   "cell_type": "code",
   "execution_count": 189,
   "metadata": {},
   "outputs": [],
   "source": [
    "import random\n",
    "def kcluster(meanDataMat,k=4):\n",
    "    row,col = meanDataMat.shape\n",
    "    print(row,col)\n",
    "    featureRange = []\n",
    "    for i in range(col):\n",
    "        Min = np.min(meanDataMat[:,i])\n",
    "        Max = np.max(meanDataMat[:,i])\n",
    "        featureRange.append((Min,Max))\n",
    "    centerPoints = []  #中心点\n",
    "    classPoints = []   #聚类数据点\n",
    "    classLabels = np.mat(np.zeros((row,2)))\n",
    "    for i in range(k):\n",
    "        centerPoints.append([random.uniform(r[0],r[1]) for r in featureRange])\n",
    "        classPoints.append([])\n",
    "    centerPointsMat = np.mat(centerPoints)\n",
    "    clusterChanged = True\n",
    "    while(clusterChanged):\n",
    "        clusterChanged = False\n",
    "        for i in range(row):\n",
    "            minDis = np.inf\n",
    "            bestK = -1\n",
    "            for j in range(k):\n",
    "                dis = distance(meanDataMat[i,:],centerPointsMat[j,:])\n",
    "                if dis < minDis:\n",
    "                    minDis = dis\n",
    "                    bestK = j\n",
    "            if classLabels[i,0] != bestK:\n",
    "                clusterChanged = True\n",
    "            classLabels[i,:] = bestK,minDis\n",
    "        for center in range(k):\n",
    "            ptsInClust = meanDataMat[np.nonzero(classLabels[:,0] == center)[0]]  #该步骤需要特别注意，精妙\n",
    "            centerPointsMat[center,:] = np.mean(ptsInClust,axis=0)\n",
    "    print('已完成聚类')\n",
    "    return centerPointsMat,classLabels"
   ]
  },
  {
   "cell_type": "code",
   "execution_count": 190,
   "metadata": {},
   "outputs": [
    {
     "name": "stdout",
     "output_type": "stream",
     "text": [
      "80 2\n",
      "已完成聚类\n"
     ]
    }
   ],
   "source": [
    "centerPointsMat,classLabels = kcluster(meanDataMat)"
   ]
  },
  {
   "cell_type": "code",
   "execution_count": 191,
   "metadata": {},
   "outputs": [
    {
     "name": "stdout",
     "output_type": "stream",
     "text": [
      "               0          1\n",
      "count  80.000000  80.000000\n",
      "mean   -0.008614   0.008614\n",
      "std     0.331392   0.333145\n",
      "min    -0.584224  -0.459075\n",
      "25%    -0.306803  -0.325977\n",
      "50%     0.005867   0.019362\n",
      "75%     0.290189   0.323504\n",
      "max     0.530519   0.568950\n"
     ]
    },
    {
     "data": {
      "image/png": "[encoded data removed]",
      "text/plain": [
       "<Figure size 432x288 with 1 Axes>"
      ]
     },
     "metadata": {
      "needs_background": "light"
     },
     "output_type": "display_data"
    }
   ],
   "source": [
    "plotDataset(meanDataMat,pointCenter=True,centerPointerMat = centerPointsMat)"
   ]
  },
  {
   "cell_type": "markdown",
   "metadata": {},
   "source": [
    "# K均值算法的缺点"
   ]
  },
  {
   "cell_type": "markdown",
   "metadata": {},
   "source": [
    "（1）需要人工预先确定初始值K值，且该值和真实的数据分布未必吻合\n",
    "\n",
    "（2）K均值只能收敛到局部最优，效果受到初始值的影响\n",
    "\n",
    "（3）易受噪点和离群点的影响\n",
    "\n",
    "（4）样本点只能被划分到单一的类中"
   ]
  },
  {
   "cell_type": "markdown",
   "metadata": {},
   "source": [
    "# K均值聚类算法改进模型"
   ]
  },
  {
   "cell_type": "markdown",
   "metadata": {},
   "source": [
    "## K-means++算法"
   ]
  },
  {
   "cell_type": "markdown",
   "metadata": {},
   "source": [
    "K均值的改进算法种，对初始值选择的改进种是很重要的一部分，而这类算法中，最具影响力的当属K-means++算法，原始K均值算法最开始随机的选取K个中心点，而K-means++按照如下的思想选取K个聚类中心：\n",
    "\n",
    "假设已经选取了n个初始聚类中心（0<n<k），则在选取第n+1个聚类中心时，距离当前n个聚类中心越远的点会有更高的概率被选为第n+1个聚类中心点。聚类中心点当然是相互离的越远越好。当选择完初始点后K-means++后续的执行和经典K均值算法相同"
   ]
  },
  {
   "cell_type": "markdown",
   "metadata": {},
   "source": [
    "## ISODATA算法"
   ]
  },
  {
   "cell_type": "markdown",
   "metadata": {},
   "source": [
    "在K均值算法种，聚类个数K的值需要预先认为确定，并且在整个算法过程种无法改变，而当遇到高维度、海量的数据集时，人们往往很难准确地估计出K的大小，ISODATA的全称为迭代自组织数据分析法，就是针对这个问题进行了改进，它的思想很直观，主要通过迭代的方法对分类进行拆分和合并，这需要制定3个阈值：\n",
    "\n",
    "（1）每个类所要求的最少样本数目$N_min$,如果分裂后会导致某个子类别所包含样本数目小于该阈值，就不会对该类别进行分裂操作\n",
    "\n",
    "（2）最大方差Sigma,用于控制某个类别中样本的分散程度，当样本的分散程度超过某个阈值时，进行分裂操作\n",
    "\n",
    "（3）两个聚类中心之间所允许的最小距离$D_min$，如果两个类考的非常近(即这两个类别对应聚类中心之间距离非常小)，小于该阈值时，则对这两个类进行合并操作"
   ]
  }
 ],
 "metadata": {
  "kernelspec": {
   "display_name": "Python 3",
   "language": "python",
   "name": "python3"
  },
  "language_info": {
   "codemirror_mode": {
    "name": "ipython",
    "version": 3
   },
   "file_extension": ".py",
   "mimetype": "text/x-python",
   "name": "python",
   "nbconvert_exporter": "python",
   "pygments_lexer": "ipython3",
   "version": "3.6.7"
  },
  "toc": {
   "base_numbering": 1,
   "nav_menu": {},
   "number_sections": true,
   "sideBar": true,
   "skip_h1_title": false,
   "title_cell": "Table of Contents",
   "title_sidebar": "Contents",
   "toc_cell": false,
   "toc_position": {},
   "toc_section_display": true,
   "toc_window_display": true
  }
 },
 "nbformat": 4,
 "nbformat_minor": 2
}
