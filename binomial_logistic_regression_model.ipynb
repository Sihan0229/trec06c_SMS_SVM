{
 "cells": [
  {
   "cell_type": "markdown",
   "metadata": {},
   "source": [
    "# 二项逻辑斯蒂回归模型算法推导"
   ]
  },
  {
   "cell_type": "markdown",
   "metadata": {},
   "source": [
    "二项逻辑斯蒂回归模型是一种分类模型，由条件概率p(y|x)表示，形式未参数化的逻辑斯蒂分布，这里的变量X为实数，随机变量y取值为1或0，逻辑斯蒂模型条件概率分布如下："
   ]
  },
  {
   "cell_type": "markdown",
   "metadata": {},
   "source": [
    "$$p(y=1|x) = \\frac{\\exp(w{\\bullet}x+b)}{1+\\exp(w{\\bullet}x+b)}$$"
   ]
  },
  {
   "cell_type": "markdown",
   "metadata": {},
   "source": [
    "$$p(y=0|x) = \\frac{1}{1+\\exp(w{\\bullet}x+b)}$$"
   ]
  },
  {
   "cell_type": "markdown",
   "metadata": {},
   "source": [
    "假设$$p(y = 1|x) = \\theta(x),p(y=0|x) = 1 - \\theta(x)$$ "
   ]
  },
  {
   "cell_type": "markdown",
   "metadata": {},
   "source": [
    "损失函数：$$L(\\theta(x)) = -\\prod_{i=1}^N[\\theta(x_i)]^{y_i}[1-\\theta(x_i)]^{1-y_i}$$"
   ]
  },
  {
   "cell_type": "markdown",
   "metadata": {},
   "source": [
    "对数似然函数：$$L(\\theta(x)) = -\\sum_{i=1}^Ny_i * \\log\\theta(x_i)-(1-y_i)\\log(1-\\theta(x_i))$$"
   ]
  },
  {
   "cell_type": "markdown",
   "metadata": {},
   "source": [
    "求$L(\\theta(x))$的极大值，得到w的估计值,由于$L(\\theta(x))$为凸函数，可以直接求损失函数的一阶偏导："
   ]
  },
  {
   "cell_type": "markdown",
   "metadata": {},
   "source": [
    "$$\\frac{\\delta{L}}{\\delta{w_j}} = -\\sum_{i=1}^N[y_i*\\frac{1}{\\theta(x_i)} - (1-y_i)*\\frac{1}{1-\\theta(x_i)}] *\\frac{\\delta{\\theta(x)}}{\\delta{w_j}}$$"
   ]
  },
  {
   "cell_type": "markdown",
   "metadata": {},
   "source": [
    "由于$\\frac{\\delta{\\theta(x)}}{\\delta{w}} = \\theta(x_i) * (1 - \\theta(x_i))*x_j^i$"
   ]
  },
  {
   "cell_type": "markdown",
   "metadata": {},
   "source": [
    "得到：$$\\frac{\\delta{L}}{\\delta{w_j}} = -\\sum_{i=1}^N(y_i-\\theta(x_i))*x_j^i$$"
   ]
  },
  {
   "cell_type": "code",
   "execution_count": null,
   "metadata": {},
   "outputs": [],
   "source": []
  }
 ],
 "metadata": {
  "kernelspec": {
   "display_name": "Python 3",
   "language": "python",
   "name": "python3"
  },
  "language_info": {
   "codemirror_mode": {
    "name": "ipython",
    "version": 3
   },
   "file_extension": ".py",
   "mimetype": "text/x-python",
   "name": "python",
   "nbconvert_exporter": "python",
   "pygments_lexer": "ipython3",
   "version": "3.7.1"
  },
  "toc": {
   "base_numbering": 1,
   "nav_menu": {},
   "number_sections": true,
   "sideBar": true,
   "skip_h1_title": false,
   "title_cell": "Table of Contents",
   "title_sidebar": "Contents",
   "toc_cell": false,
   "toc_position": {},
   "toc_section_display": true,
   "toc_window_display": false
  }
 },
 "nbformat": 4,
 "nbformat_minor": 2
}
